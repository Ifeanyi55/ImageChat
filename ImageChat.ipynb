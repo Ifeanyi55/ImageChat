{
  "nbformat": 4,
  "nbformat_minor": 0,
  "metadata": {
    "colab": {
      "provenance": [],
      "gpuType": "T4",
      "authorship_tag": "ABX9TyPQ9WYhdnsq3zpiyfoKV9gs",
      "include_colab_link": true
    },
    "kernelspec": {
      "name": "python3",
      "display_name": "Python 3"
    },
    "language_info": {
      "name": "python"
    },
    "accelerator": "GPU"
  },
  "cells": [
    {
      "cell_type": "markdown",
      "metadata": {
        "id": "view-in-github",
        "colab_type": "text"
      },
      "source": [
        "<a href=\"https://colab.research.google.com/github/Ifeanyi55/ImageChat/blob/main/ImageChat.ipynb\" target=\"_parent\"><img src=\"https://colab.research.google.com/assets/colab-badge.svg\" alt=\"Open In Colab\"/></a>"
      ]
    },
    {
      "cell_type": "markdown",
      "source": [
        "# **Install Required Libraries**"
      ],
      "metadata": {
        "id": "FcYKrz9KSyzM"
      }
    },
    {
      "cell_type": "code",
      "source": [
        "!pip install google-generativeai grpcio grpcio-tools gradio"
      ],
      "metadata": {
        "id": "rFRt0qbdSxm7"
      },
      "execution_count": null,
      "outputs": []
    },
    {
      "cell_type": "markdown",
      "source": [
        "# **Run Gradio App**"
      ],
      "metadata": {
        "id": "DbbhsJSqS8Q-"
      }
    },
    {
      "cell_type": "code",
      "execution_count": null,
      "metadata": {
        "id": "mv0s_oDqSmpd"
      },
      "outputs": [],
      "source": [
        "# build gradio frontend\n",
        "import google.generativeai as genai\n",
        "import gradio as gr\n",
        "import numpy as np\n",
        "import PIL.Image\n",
        "\n",
        "genai.configure(api_key=\"input your Google AI Studio API key\")\n",
        "\n",
        "def ImageChat(image, prompt):\n",
        "\n",
        "  # load model\n",
        "  model = genai.GenerativeModel(\"gemini-pro-vision\")\n",
        "\n",
        "  # check image file and convert to a Numpy array\n",
        "  if isinstance(image, np.ndarray):\n",
        "\n",
        "        img = PIL.Image.fromarray(image)\n",
        "  else:\n",
        "        img = PIL.Image.open(image)\n",
        "\n",
        "  response =  model.generate_content([prompt, img])\n",
        "\n",
        "  return response.text\n",
        "\n",
        "\n",
        "app = gr.Interface(ImageChat,\n",
        "                   inputs = [gr.Image(), gr.Text()],\n",
        "                   outputs = gr.Text(),\n",
        "                   title = \"Image Chat\",\n",
        "                   theme = gr.themes.Soft())\n",
        "\n",
        "app.launch(debug = True)\n",
        "\n",
        "\n"
      ]
    }
  ]
}